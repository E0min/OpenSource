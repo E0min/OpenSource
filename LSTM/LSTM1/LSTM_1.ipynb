{
 "cells": [
  {
   "cell_type": "code",
   "execution_count": null,
   "metadata": {},
   "outputs": [],
   "source": [
    "import pandas as pd\n",
    "import numpy as np\n",
    "from tensorflow.keras.models import load_model\n",
    "from sklearn.model_selection import train_test_split\n",
    "from tensorflow.keras.preprocessing.text import Tokenizer\n",
    "import pickle\n",
    "from tensorflow.keras.preprocessing.sequence import pad_sequences\n",
    "from tensorflow.keras.models import Sequential\n",
    "from tensorflow.keras.layers import Embedding, LSTM, Dense\n",
    "from tensorflow.keras.callbacks import EarlyStopping, ModelCheckpoint"
   ]
  },
  {
   "cell_type": "code",
   "execution_count": null,
   "metadata": {},
   "outputs": [],
   "source": [
    "# TSV 파일 불러오기\n",
    "df = pd.read_csv('../kr3.tsv', sep='\\t')\n",
    "\n",
    "# 'Rating'과 'Review' 열 선택\n",
    "ratings = df['Rating']\n",
    "reviews = df['Review']\n",
    "\n",
    "# 텍스트 토큰화 및 패딩\n",
    "tokenizer = Tokenizer(num_words=5000)\n",
    "tokenizer.fit_on_texts(reviews)\n",
    "sequences = tokenizer.texts_to_sequences(reviews)\n",
    "\n",
    "\n",
    "# Tokenizer 객체 저장\n",
    "with open('./tokenizer_1.pickle', 'wb') as handle:\n",
    "    pickle.dump(tokenizer, handle, protocol=pickle.HIGHEST_PROTOCOL)\n",
    "\n",
    "\n",
    "max_seq_length = max([len(x) for x in sequences])\n",
    "sequences_padded = pad_sequences(sequences, maxlen=max_seq_length)\n",
    "\n",
    "# 데이터 분할\n",
    "X_train, X_test, y_train, y_test = train_test_split(sequences_padded, ratings, test_size=0.2, random_state=42)"
   ]
  },
  {
   "cell_type": "code",
   "execution_count": null,
   "metadata": {},
   "outputs": [],
   "source": [
    "\n",
    "# 단어 인덱스 맵의 크기 설정 \n",
    "vocab_size = len(tokenizer.word_index) + 1  # word_to_index 대신 tokenizer.word_index 사용\n",
    "\n",
    "# 모델 구축\n",
    "model = Sequential()\n",
    "model.add(Embedding(vocab_size, 100))  # input_dim을 len(word_to_index) + 1로 변경\n",
    "model.add(LSTM(128))\n",
    "model.add(Dense(3, activation='softmax'))  # 3개 클래스 (부정, 긍정, 중립)으로 변경\n",
    "\n",
    "# 모델 컴파일\n",
    "model.compile(loss='sparse_categorical_crossentropy', optimizer='adam', metrics=['accuracy'])\n",
    "\n",
    "# EarlyStopping과 ModelCheckpoint 설정\n",
    "early_stopping = EarlyStopping(monitor='val_loss', mode='min', patience=4, verbose=1)\n",
    "model_checkpoint = ModelCheckpoint('./best_model_1.h5', monitor='val_accuracy', mode='max', save_best_only=True, verbose=1)\n",
    "\n",
    "# 모델 훈련\n",
    "model.fit(X_train, y_train, epochs=15, batch_size=64, validation_split=0.2, callbacks=[early_stopping, model_checkpoint])"
   ]
  },
  {
   "cell_type": "code",
   "execution_count": null,
   "metadata": {},
   "outputs": [],
   "source": [
    "# Tokenizer 객체 불러오기\n",
    "with open('./tokenizer_1.pickle', 'rb') as handle:\n",
    "    tokenizer = pickle.load(handle)\n",
    "\n",
    "# 모델 불러오기\n",
    "model = load_model('./best_model_1.h5')\n",
    "\n",
    "# 예시 리뷰 데이터\n",
    "example_reviews = [\n",
    "    \"이 제품은 정말 좋아요! 강력 추천합니다!\",\n",
    "    \"별로예요. 기대했던 것보다 훨씬 못해요.\",\n",
    "    \"괜찮네요. 가격 대비 만족합니다.\"\n",
    "]\n",
    "\n",
    "# 예시 데이터 토큰화 및 패딩\n",
    "example_sequences = tokenizer.texts_to_sequences(example_reviews)\n",
    "max_seq_length = max([len(x) for x in example_sequences])  # 적절한 최대 시퀀스 길이 설정\n",
    "example_padded = pad_sequences(example_sequences, maxlen=max_seq_length)\n",
    "\n",
    "# 예측 수행\n",
    "predictions = model.predict(example_padded)\n",
    "\n",
    "# 예측 결과 출력\n",
    "for review, prediction in zip(example_reviews, predictions):\n",
    "    print(\"리뷰:\", review)\n",
    "    print(\"예측 결과:\", np.argmax(prediction), \"- 점수 분포:\", prediction)"
   ]
  }
 ],
 "metadata": {
  "kernelspec": {
   "display_name": "Python 3",
   "language": "python",
   "name": "python3"
  },
  "language_info": {
   "codemirror_mode": {
    "name": "ipython",
    "version": 3
   },
   "file_extension": ".py",
   "mimetype": "text/x-python",
   "name": "python",
   "nbconvert_exporter": "python",
   "pygments_lexer": "ipython3",
   "version": "3.11.7"
  }
 },
 "nbformat": 4,
 "nbformat_minor": 2
}
